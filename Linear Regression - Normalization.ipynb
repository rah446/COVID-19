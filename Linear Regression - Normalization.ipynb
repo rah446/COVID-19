{
 "cells": [
  {
   "cell_type": "markdown",
   "metadata": {},
   "source": [
    "# To find total deaths from cases per million due to covid 19"
   ]
  },
  {
   "cell_type": "code",
   "execution_count": 384,
   "metadata": {},
   "outputs": [],
   "source": [
    "import numpy as np\n",
    "import pandas as pd\n",
    "import seaborn as sns\n",
    "import matplotlib.pyplot as plt\n",
    "from sklearn import preprocessing\n",
    "data = pd.read_csv('D:\\Rahil_user_backup\\Desktop\\Python Project\\covid19_preprocessed.csv')"
   ]
  },
  {
   "cell_type": "code",
   "execution_count": 385,
   "metadata": {},
   "outputs": [
    {
     "data": {
      "text/html": [
       "<div>\n",
       "<style scoped>\n",
       "    .dataframe tbody tr th:only-of-type {\n",
       "        vertical-align: middle;\n",
       "    }\n",
       "\n",
       "    .dataframe tbody tr th {\n",
       "        vertical-align: top;\n",
       "    }\n",
       "\n",
       "    .dataframe thead th {\n",
       "        text-align: right;\n",
       "    }\n",
       "</style>\n",
       "<table border=\"1\" class=\"dataframe\">\n",
       "  <thead>\n",
       "    <tr style=\"text-align: right;\">\n",
       "      <th></th>\n",
       "      <th>Country</th>\n",
       "      <th>TotalCases</th>\n",
       "      <th>TotalDeaths</th>\n",
       "      <th>Recovered</th>\n",
       "      <th>ActiveCases</th>\n",
       "      <th>SeriousCases</th>\n",
       "      <th>CasesPerMil</th>\n",
       "      <th>Population</th>\n",
       "      <th>MedianAge</th>\n",
       "    </tr>\n",
       "  </thead>\n",
       "  <tbody>\n",
       "    <tr>\n",
       "      <th>0</th>\n",
       "      <td>China</td>\n",
       "      <td>80967</td>\n",
       "      <td>3248</td>\n",
       "      <td>71150</td>\n",
       "      <td>6569</td>\n",
       "      <td>2136</td>\n",
       "      <td>56.00</td>\n",
       "      <td>1439323776</td>\n",
       "      <td>38</td>\n",
       "    </tr>\n",
       "    <tr>\n",
       "      <th>1</th>\n",
       "      <td>Italy</td>\n",
       "      <td>41035</td>\n",
       "      <td>3405</td>\n",
       "      <td>4440</td>\n",
       "      <td>33190</td>\n",
       "      <td>2498</td>\n",
       "      <td>679.00</td>\n",
       "      <td>60461826</td>\n",
       "      <td>47</td>\n",
       "    </tr>\n",
       "    <tr>\n",
       "      <th>2</th>\n",
       "      <td>Spain</td>\n",
       "      <td>19980</td>\n",
       "      <td>1002</td>\n",
       "      <td>1588</td>\n",
       "      <td>17390</td>\n",
       "      <td>939</td>\n",
       "      <td>427.00</td>\n",
       "      <td>46754778</td>\n",
       "      <td>45</td>\n",
       "    </tr>\n",
       "    <tr>\n",
       "      <th>3</th>\n",
       "      <td>Iran</td>\n",
       "      <td>19644</td>\n",
       "      <td>1433</td>\n",
       "      <td>5979</td>\n",
       "      <td>12232</td>\n",
       "      <td>0</td>\n",
       "      <td>234.00</td>\n",
       "      <td>83992949</td>\n",
       "      <td>32</td>\n",
       "    </tr>\n",
       "    <tr>\n",
       "      <th>4</th>\n",
       "      <td>Germany</td>\n",
       "      <td>16626</td>\n",
       "      <td>44</td>\n",
       "      <td>115</td>\n",
       "      <td>16467</td>\n",
       "      <td>2</td>\n",
       "      <td>198.00</td>\n",
       "      <td>83783942</td>\n",
       "      <td>46</td>\n",
       "    </tr>\n",
       "    <tr>\n",
       "      <th>...</th>\n",
       "      <td>...</td>\n",
       "      <td>...</td>\n",
       "      <td>...</td>\n",
       "      <td>...</td>\n",
       "      <td>...</td>\n",
       "      <td>...</td>\n",
       "      <td>...</td>\n",
       "      <td>...</td>\n",
       "      <td>...</td>\n",
       "    </tr>\n",
       "    <tr>\n",
       "      <th>177</th>\n",
       "      <td>Nicaragua</td>\n",
       "      <td>1</td>\n",
       "      <td>0</td>\n",
       "      <td>0</td>\n",
       "      <td>1</td>\n",
       "      <td>0</td>\n",
       "      <td>0.20</td>\n",
       "      <td>6624554</td>\n",
       "      <td>26</td>\n",
       "    </tr>\n",
       "    <tr>\n",
       "      <th>178</th>\n",
       "      <td>Niger</td>\n",
       "      <td>1</td>\n",
       "      <td>0</td>\n",
       "      <td>0</td>\n",
       "      <td>1</td>\n",
       "      <td>0</td>\n",
       "      <td>0.04</td>\n",
       "      <td>24206644</td>\n",
       "      <td>15</td>\n",
       "    </tr>\n",
       "    <tr>\n",
       "      <th>179</th>\n",
       "      <td>St. Vincent Grenadines</td>\n",
       "      <td>1</td>\n",
       "      <td>0</td>\n",
       "      <td>0</td>\n",
       "      <td>1</td>\n",
       "      <td>0</td>\n",
       "      <td>9.00</td>\n",
       "      <td>0</td>\n",
       "      <td>0</td>\n",
       "    </tr>\n",
       "    <tr>\n",
       "      <th>180</th>\n",
       "      <td>Sint Maarten</td>\n",
       "      <td>1</td>\n",
       "      <td>0</td>\n",
       "      <td>0</td>\n",
       "      <td>1</td>\n",
       "      <td>0</td>\n",
       "      <td>23.00</td>\n",
       "      <td>42876</td>\n",
       "      <td>0</td>\n",
       "    </tr>\n",
       "    <tr>\n",
       "      <th>181</th>\n",
       "      <td>Somalia</td>\n",
       "      <td>1</td>\n",
       "      <td>0</td>\n",
       "      <td>0</td>\n",
       "      <td>1</td>\n",
       "      <td>0</td>\n",
       "      <td>0.06</td>\n",
       "      <td>15893222</td>\n",
       "      <td>17</td>\n",
       "    </tr>\n",
       "  </tbody>\n",
       "</table>\n",
       "<p>182 rows × 9 columns</p>\n",
       "</div>"
      ],
      "text/plain": [
       "                    Country  TotalCases  TotalDeaths  Recovered  ActiveCases  \\\n",
       "0                     China       80967         3248      71150         6569   \n",
       "1                     Italy       41035         3405       4440        33190   \n",
       "2                     Spain       19980         1002       1588        17390   \n",
       "3                      Iran       19644         1433       5979        12232   \n",
       "4                   Germany       16626           44        115        16467   \n",
       "..                      ...         ...          ...        ...          ...   \n",
       "177               Nicaragua           1            0          0            1   \n",
       "178                   Niger           1            0          0            1   \n",
       "179  St. Vincent Grenadines           1            0          0            1   \n",
       "180            Sint Maarten           1            0          0            1   \n",
       "181                 Somalia           1            0          0            1   \n",
       "\n",
       "     SeriousCases  CasesPerMil  Population  MedianAge  \n",
       "0            2136        56.00  1439323776         38  \n",
       "1            2498       679.00    60461826         47  \n",
       "2             939       427.00    46754778         45  \n",
       "3               0       234.00    83992949         32  \n",
       "4               2       198.00    83783942         46  \n",
       "..            ...          ...         ...        ...  \n",
       "177             0         0.20     6624554         26  \n",
       "178             0         0.04    24206644         15  \n",
       "179             0         9.00           0          0  \n",
       "180             0        23.00       42876          0  \n",
       "181             0         0.06    15893222         17  \n",
       "\n",
       "[182 rows x 9 columns]"
      ]
     },
     "execution_count": 385,
     "metadata": {},
     "output_type": "execute_result"
    }
   ],
   "source": [
    "data"
   ]
  },
  {
   "cell_type": "code",
   "execution_count": 386,
   "metadata": {},
   "outputs": [
    {
     "data": {
      "text/plain": [
       "(182, 9)"
      ]
     },
     "execution_count": 386,
     "metadata": {},
     "output_type": "execute_result"
    }
   ],
   "source": [
    "data.shape"
   ]
  },
  {
   "cell_type": "code",
   "execution_count": 387,
   "metadata": {},
   "outputs": [
    {
     "data": {
      "text/plain": [
       "Index(['Country', 'TotalCases', 'TotalDeaths', 'Recovered', 'ActiveCases',\n",
       "       'SeriousCases', 'CasesPerMil', 'Population', 'MedianAge'],\n",
       "      dtype='object')"
      ]
     },
     "execution_count": 387,
     "metadata": {},
     "output_type": "execute_result"
    }
   ],
   "source": [
    "data.columns"
   ]
  },
  {
   "cell_type": "code",
   "execution_count": 388,
   "metadata": {},
   "outputs": [
    {
     "data": {
      "text/html": [
       "<style  type=\"text/css\" >\n",
       "    #T_37cd17ec_dd8a_11ea_ba1a_0ae0afef0a42row0_col0 {\n",
       "            background-color:  #b40426;\n",
       "            color:  #f1f1f1;\n",
       "        }    #T_37cd17ec_dd8a_11ea_ba1a_0ae0afef0a42row0_col1 {\n",
       "            background-color:  #d1493f;\n",
       "            color:  #f1f1f1;\n",
       "        }    #T_37cd17ec_dd8a_11ea_ba1a_0ae0afef0a42row0_col2 {\n",
       "            background-color:  #df634e;\n",
       "            color:  #000000;\n",
       "        }    #T_37cd17ec_dd8a_11ea_ba1a_0ae0afef0a42row0_col3 {\n",
       "            background-color:  #f3c8b2;\n",
       "            color:  #000000;\n",
       "        }    #T_37cd17ec_dd8a_11ea_ba1a_0ae0afef0a42row0_col4 {\n",
       "            background-color:  #e36c55;\n",
       "            color:  #000000;\n",
       "        }    #T_37cd17ec_dd8a_11ea_ba1a_0ae0afef0a42row0_col5 {\n",
       "            background-color:  #85a8fc;\n",
       "            color:  #000000;\n",
       "        }    #T_37cd17ec_dd8a_11ea_ba1a_0ae0afef0a42row0_col6 {\n",
       "            background-color:  #f4c5ad;\n",
       "            color:  #000000;\n",
       "        }    #T_37cd17ec_dd8a_11ea_ba1a_0ae0afef0a42row0_col7 {\n",
       "            background-color:  #a2c1ff;\n",
       "            color:  #000000;\n",
       "        }    #T_37cd17ec_dd8a_11ea_ba1a_0ae0afef0a42row1_col0 {\n",
       "            background-color:  #d1493f;\n",
       "            color:  #f1f1f1;\n",
       "        }    #T_37cd17ec_dd8a_11ea_ba1a_0ae0afef0a42row1_col1 {\n",
       "            background-color:  #b40426;\n",
       "            color:  #f1f1f1;\n",
       "        }    #T_37cd17ec_dd8a_11ea_ba1a_0ae0afef0a42row1_col2 {\n",
       "            background-color:  #f7a98b;\n",
       "            color:  #000000;\n",
       "        }    #T_37cd17ec_dd8a_11ea_ba1a_0ae0afef0a42row1_col3 {\n",
       "            background-color:  #f7ad90;\n",
       "            color:  #000000;\n",
       "        }    #T_37cd17ec_dd8a_11ea_ba1a_0ae0afef0a42row1_col4 {\n",
       "            background-color:  #d1493f;\n",
       "            color:  #f1f1f1;\n",
       "        }    #T_37cd17ec_dd8a_11ea_ba1a_0ae0afef0a42row1_col5 {\n",
       "            background-color:  #8db0fe;\n",
       "            color:  #000000;\n",
       "        }    #T_37cd17ec_dd8a_11ea_ba1a_0ae0afef0a42row1_col6 {\n",
       "            background-color:  #dadce0;\n",
       "            color:  #000000;\n",
       "        }    #T_37cd17ec_dd8a_11ea_ba1a_0ae0afef0a42row1_col7 {\n",
       "            background-color:  #9bbcff;\n",
       "            color:  #000000;\n",
       "        }    #T_37cd17ec_dd8a_11ea_ba1a_0ae0afef0a42row2_col0 {\n",
       "            background-color:  #e26952;\n",
       "            color:  #000000;\n",
       "        }    #T_37cd17ec_dd8a_11ea_ba1a_0ae0afef0a42row2_col1 {\n",
       "            background-color:  #f7b497;\n",
       "            color:  #000000;\n",
       "        }    #T_37cd17ec_dd8a_11ea_ba1a_0ae0afef0a42row2_col2 {\n",
       "            background-color:  #b40426;\n",
       "            color:  #f1f1f1;\n",
       "        }    #T_37cd17ec_dd8a_11ea_ba1a_0ae0afef0a42row2_col3 {\n",
       "            background-color:  #5470de;\n",
       "            color:  #000000;\n",
       "        }    #T_37cd17ec_dd8a_11ea_ba1a_0ae0afef0a42row2_col4 {\n",
       "            background-color:  #f2cbb7;\n",
       "            color:  #000000;\n",
       "        }    #T_37cd17ec_dd8a_11ea_ba1a_0ae0afef0a42row2_col5 {\n",
       "            background-color:  #7295f4;\n",
       "            color:  #000000;\n",
       "        }    #T_37cd17ec_dd8a_11ea_ba1a_0ae0afef0a42row2_col6 {\n",
       "            background-color:  #f7ad90;\n",
       "            color:  #000000;\n",
       "        }    #T_37cd17ec_dd8a_11ea_ba1a_0ae0afef0a42row2_col7 {\n",
       "            background-color:  #85a8fc;\n",
       "            color:  #000000;\n",
       "        }    #T_37cd17ec_dd8a_11ea_ba1a_0ae0afef0a42row3_col0 {\n",
       "            background-color:  #f5c0a7;\n",
       "            color:  #000000;\n",
       "        }    #T_37cd17ec_dd8a_11ea_ba1a_0ae0afef0a42row3_col1 {\n",
       "            background-color:  #f7a98b;\n",
       "            color:  #000000;\n",
       "        }    #T_37cd17ec_dd8a_11ea_ba1a_0ae0afef0a42row3_col2 {\n",
       "            background-color:  #7da0f9;\n",
       "            color:  #000000;\n",
       "        }    #T_37cd17ec_dd8a_11ea_ba1a_0ae0afef0a42row3_col3 {\n",
       "            background-color:  #b40426;\n",
       "            color:  #f1f1f1;\n",
       "        }    #T_37cd17ec_dd8a_11ea_ba1a_0ae0afef0a42row3_col4 {\n",
       "            background-color:  #f7ad90;\n",
       "            color:  #000000;\n",
       "        }    #T_37cd17ec_dd8a_11ea_ba1a_0ae0afef0a42row3_col5 {\n",
       "            background-color:  #98b9ff;\n",
       "            color:  #000000;\n",
       "        }    #T_37cd17ec_dd8a_11ea_ba1a_0ae0afef0a42row3_col6 {\n",
       "            background-color:  #7da0f9;\n",
       "            color:  #000000;\n",
       "        }    #T_37cd17ec_dd8a_11ea_ba1a_0ae0afef0a42row3_col7 {\n",
       "            background-color:  #b6cefa;\n",
       "            color:  #000000;\n",
       "        }    #T_37cd17ec_dd8a_11ea_ba1a_0ae0afef0a42row4_col0 {\n",
       "            background-color:  #e36b54;\n",
       "            color:  #000000;\n",
       "        }    #T_37cd17ec_dd8a_11ea_ba1a_0ae0afef0a42row4_col1 {\n",
       "            background-color:  #d1493f;\n",
       "            color:  #f1f1f1;\n",
       "        }    #T_37cd17ec_dd8a_11ea_ba1a_0ae0afef0a42row4_col2 {\n",
       "            background-color:  #f5c0a7;\n",
       "            color:  #000000;\n",
       "        }    #T_37cd17ec_dd8a_11ea_ba1a_0ae0afef0a42row4_col3 {\n",
       "            background-color:  #f7b194;\n",
       "            color:  #000000;\n",
       "        }    #T_37cd17ec_dd8a_11ea_ba1a_0ae0afef0a42row4_col4 {\n",
       "            background-color:  #b40426;\n",
       "            color:  #f1f1f1;\n",
       "        }    #T_37cd17ec_dd8a_11ea_ba1a_0ae0afef0a42row4_col5 {\n",
       "            background-color:  #8db0fe;\n",
       "            color:  #000000;\n",
       "        }    #T_37cd17ec_dd8a_11ea_ba1a_0ae0afef0a42row4_col6 {\n",
       "            background-color:  #cedaeb;\n",
       "            color:  #000000;\n",
       "        }    #T_37cd17ec_dd8a_11ea_ba1a_0ae0afef0a42row4_col7 {\n",
       "            background-color:  #a1c0ff;\n",
       "            color:  #000000;\n",
       "        }    #T_37cd17ec_dd8a_11ea_ba1a_0ae0afef0a42row5_col0 {\n",
       "            background-color:  #3b4cc0;\n",
       "            color:  #f1f1f1;\n",
       "        }    #T_37cd17ec_dd8a_11ea_ba1a_0ae0afef0a42row5_col1 {\n",
       "            background-color:  #3b4cc0;\n",
       "            color:  #f1f1f1;\n",
       "        }    #T_37cd17ec_dd8a_11ea_ba1a_0ae0afef0a42row5_col2 {\n",
       "            background-color:  #3b4cc0;\n",
       "            color:  #f1f1f1;\n",
       "        }    #T_37cd17ec_dd8a_11ea_ba1a_0ae0afef0a42row5_col3 {\n",
       "            background-color:  #3b4cc0;\n",
       "            color:  #f1f1f1;\n",
       "        }    #T_37cd17ec_dd8a_11ea_ba1a_0ae0afef0a42row5_col4 {\n",
       "            background-color:  #3b4cc0;\n",
       "            color:  #f1f1f1;\n",
       "        }    #T_37cd17ec_dd8a_11ea_ba1a_0ae0afef0a42row5_col5 {\n",
       "            background-color:  #b40426;\n",
       "            color:  #f1f1f1;\n",
       "        }    #T_37cd17ec_dd8a_11ea_ba1a_0ae0afef0a42row5_col6 {\n",
       "            background-color:  #3b4cc0;\n",
       "            color:  #f1f1f1;\n",
       "        }    #T_37cd17ec_dd8a_11ea_ba1a_0ae0afef0a42row5_col7 {\n",
       "            background-color:  #3b4cc0;\n",
       "            color:  #f1f1f1;\n",
       "        }    #T_37cd17ec_dd8a_11ea_ba1a_0ae0afef0a42row6_col0 {\n",
       "            background-color:  #edd1c2;\n",
       "            color:  #000000;\n",
       "        }    #T_37cd17ec_dd8a_11ea_ba1a_0ae0afef0a42row6_col1 {\n",
       "            background-color:  #c4d5f3;\n",
       "            color:  #000000;\n",
       "        }    #T_37cd17ec_dd8a_11ea_ba1a_0ae0afef0a42row6_col2 {\n",
       "            background-color:  #f7b396;\n",
       "            color:  #000000;\n",
       "        }    #T_37cd17ec_dd8a_11ea_ba1a_0ae0afef0a42row6_col3 {\n",
       "            background-color:  #455cce;\n",
       "            color:  #f1f1f1;\n",
       "        }    #T_37cd17ec_dd8a_11ea_ba1a_0ae0afef0a42row6_col4 {\n",
       "            background-color:  #b3cdfb;\n",
       "            color:  #000000;\n",
       "        }    #T_37cd17ec_dd8a_11ea_ba1a_0ae0afef0a42row6_col5 {\n",
       "            background-color:  #6384eb;\n",
       "            color:  #000000;\n",
       "        }    #T_37cd17ec_dd8a_11ea_ba1a_0ae0afef0a42row6_col6 {\n",
       "            background-color:  #b40426;\n",
       "            color:  #f1f1f1;\n",
       "        }    #T_37cd17ec_dd8a_11ea_ba1a_0ae0afef0a42row6_col7 {\n",
       "            background-color:  #85a8fc;\n",
       "            color:  #000000;\n",
       "        }    #T_37cd17ec_dd8a_11ea_ba1a_0ae0afef0a42row7_col0 {\n",
       "            background-color:  #5b7ae5;\n",
       "            color:  #000000;\n",
       "        }    #T_37cd17ec_dd8a_11ea_ba1a_0ae0afef0a42row7_col1 {\n",
       "            background-color:  #4a63d3;\n",
       "            color:  #f1f1f1;\n",
       "        }    #T_37cd17ec_dd8a_11ea_ba1a_0ae0afef0a42row7_col2 {\n",
       "            background-color:  #4e68d8;\n",
       "            color:  #000000;\n",
       "        }    #T_37cd17ec_dd8a_11ea_ba1a_0ae0afef0a42row7_col3 {\n",
       "            background-color:  #5f7fe8;\n",
       "            color:  #000000;\n",
       "        }    #T_37cd17ec_dd8a_11ea_ba1a_0ae0afef0a42row7_col4 {\n",
       "            background-color:  #4f69d9;\n",
       "            color:  #000000;\n",
       "        }    #T_37cd17ec_dd8a_11ea_ba1a_0ae0afef0a42row7_col5 {\n",
       "            background-color:  #3b4cc0;\n",
       "            color:  #f1f1f1;\n",
       "        }    #T_37cd17ec_dd8a_11ea_ba1a_0ae0afef0a42row7_col6 {\n",
       "            background-color:  #5d7ce6;\n",
       "            color:  #000000;\n",
       "        }    #T_37cd17ec_dd8a_11ea_ba1a_0ae0afef0a42row7_col7 {\n",
       "            background-color:  #b40426;\n",
       "            color:  #f1f1f1;\n",
       "        }</style><table id=\"T_37cd17ec_dd8a_11ea_ba1a_0ae0afef0a42\" ><thead>    <tr>        <th class=\"blank level0\" ></th>        <th class=\"col_heading level0 col0\" >TotalCases</th>        <th class=\"col_heading level0 col1\" >TotalDeaths</th>        <th class=\"col_heading level0 col2\" >Recovered</th>        <th class=\"col_heading level0 col3\" >ActiveCases</th>        <th class=\"col_heading level0 col4\" >SeriousCases</th>        <th class=\"col_heading level0 col5\" >CasesPerMil</th>        <th class=\"col_heading level0 col6\" >Population</th>        <th class=\"col_heading level0 col7\" >MedianAge</th>    </tr></thead><tbody>\n",
       "                <tr>\n",
       "                        <th id=\"T_37cd17ec_dd8a_11ea_ba1a_0ae0afef0a42level0_row0\" class=\"row_heading level0 row0\" >TotalCases</th>\n",
       "                        <td id=\"T_37cd17ec_dd8a_11ea_ba1a_0ae0afef0a42row0_col0\" class=\"data row0 col0\" >1.000000</td>\n",
       "                        <td id=\"T_37cd17ec_dd8a_11ea_ba1a_0ae0afef0a42row0_col1\" class=\"data row0 col1\" >0.922702</td>\n",
       "                        <td id=\"T_37cd17ec_dd8a_11ea_ba1a_0ae0afef0a42row0_col2\" class=\"data row0 col2\" >0.868131</td>\n",
       "                        <td id=\"T_37cd17ec_dd8a_11ea_ba1a_0ae0afef0a42row0_col3\" class=\"data row0 col3\" >0.662935</td>\n",
       "                        <td id=\"T_37cd17ec_dd8a_11ea_ba1a_0ae0afef0a42row0_col4\" class=\"data row0 col4\" >0.863696</td>\n",
       "                        <td id=\"T_37cd17ec_dd8a_11ea_ba1a_0ae0afef0a42row0_col5\" class=\"data row0 col5\" >0.068885</td>\n",
       "                        <td id=\"T_37cd17ec_dd8a_11ea_ba1a_0ae0afef0a42row0_col6\" class=\"data row0 col6\" >0.603465</td>\n",
       "                        <td id=\"T_37cd17ec_dd8a_11ea_ba1a_0ae0afef0a42row0_col7\" class=\"data row0 col7\" >0.167933</td>\n",
       "            </tr>\n",
       "            <tr>\n",
       "                        <th id=\"T_37cd17ec_dd8a_11ea_ba1a_0ae0afef0a42level0_row1\" class=\"row_heading level0 row1\" >TotalDeaths</th>\n",
       "                        <td id=\"T_37cd17ec_dd8a_11ea_ba1a_0ae0afef0a42row1_col0\" class=\"data row1 col0\" >0.922702</td>\n",
       "                        <td id=\"T_37cd17ec_dd8a_11ea_ba1a_0ae0afef0a42row1_col1\" class=\"data row1 col1\" >1.000000</td>\n",
       "                        <td id=\"T_37cd17ec_dd8a_11ea_ba1a_0ae0afef0a42row1_col2\" class=\"data row1 col2\" >0.709297</td>\n",
       "                        <td id=\"T_37cd17ec_dd8a_11ea_ba1a_0ae0afef0a42row1_col3\" class=\"data row1 col3\" >0.737517</td>\n",
       "                        <td id=\"T_37cd17ec_dd8a_11ea_ba1a_0ae0afef0a42row1_col4\" class=\"data row1 col4\" >0.924670</td>\n",
       "                        <td id=\"T_37cd17ec_dd8a_11ea_ba1a_0ae0afef0a42row1_col5\" class=\"data row1 col5\" >0.094088</td>\n",
       "                        <td id=\"T_37cd17ec_dd8a_11ea_ba1a_0ae0afef0a42row1_col6\" class=\"data row1 col6\" >0.466523</td>\n",
       "                        <td id=\"T_37cd17ec_dd8a_11ea_ba1a_0ae0afef0a42row1_col7\" class=\"data row1 col7\" >0.142094</td>\n",
       "            </tr>\n",
       "            <tr>\n",
       "                        <th id=\"T_37cd17ec_dd8a_11ea_ba1a_0ae0afef0a42level0_row2\" class=\"row_heading level0 row2\" >Recovered</th>\n",
       "                        <td id=\"T_37cd17ec_dd8a_11ea_ba1a_0ae0afef0a42row2_col0\" class=\"data row2 col0\" >0.868131</td>\n",
       "                        <td id=\"T_37cd17ec_dd8a_11ea_ba1a_0ae0afef0a42row2_col1\" class=\"data row2 col1\" >0.709297</td>\n",
       "                        <td id=\"T_37cd17ec_dd8a_11ea_ba1a_0ae0afef0a42row2_col2\" class=\"data row2 col2\" >1.000000</td>\n",
       "                        <td id=\"T_37cd17ec_dd8a_11ea_ba1a_0ae0afef0a42row2_col3\" class=\"data row2 col3\" >0.204364</td>\n",
       "                        <td id=\"T_37cd17ec_dd8a_11ea_ba1a_0ae0afef0a42row2_col4\" class=\"data row2 col4\" >0.640219</td>\n",
       "                        <td id=\"T_37cd17ec_dd8a_11ea_ba1a_0ae0afef0a42row2_col5\" class=\"data row2 col5\" >0.001253</td>\n",
       "                        <td id=\"T_37cd17ec_dd8a_11ea_ba1a_0ae0afef0a42row2_col6\" class=\"data row2 col6\" >0.682870</td>\n",
       "                        <td id=\"T_37cd17ec_dd8a_11ea_ba1a_0ae0afef0a42row2_col7\" class=\"data row2 col7\" >0.065764</td>\n",
       "            </tr>\n",
       "            <tr>\n",
       "                        <th id=\"T_37cd17ec_dd8a_11ea_ba1a_0ae0afef0a42level0_row3\" class=\"row_heading level0 row3\" >ActiveCases</th>\n",
       "                        <td id=\"T_37cd17ec_dd8a_11ea_ba1a_0ae0afef0a42row3_col0\" class=\"data row3 col0\" >0.662935</td>\n",
       "                        <td id=\"T_37cd17ec_dd8a_11ea_ba1a_0ae0afef0a42row3_col1\" class=\"data row3 col1\" >0.737517</td>\n",
       "                        <td id=\"T_37cd17ec_dd8a_11ea_ba1a_0ae0afef0a42row3_col2\" class=\"data row3 col2\" >0.204364</td>\n",
       "                        <td id=\"T_37cd17ec_dd8a_11ea_ba1a_0ae0afef0a42row3_col3\" class=\"data row3 col3\" >1.000000</td>\n",
       "                        <td id=\"T_37cd17ec_dd8a_11ea_ba1a_0ae0afef0a42row3_col4\" class=\"data row3 col4\" >0.728273</td>\n",
       "                        <td id=\"T_37cd17ec_dd8a_11ea_ba1a_0ae0afef0a42row3_col5\" class=\"data row3 col5\" >0.132931</td>\n",
       "                        <td id=\"T_37cd17ec_dd8a_11ea_ba1a_0ae0afef0a42row3_col6\" class=\"data row3 col6\" >0.163894</td>\n",
       "                        <td id=\"T_37cd17ec_dd8a_11ea_ba1a_0ae0afef0a42row3_col7\" class=\"data row3 col7\" >0.236506</td>\n",
       "            </tr>\n",
       "            <tr>\n",
       "                        <th id=\"T_37cd17ec_dd8a_11ea_ba1a_0ae0afef0a42level0_row4\" class=\"row_heading level0 row4\" >SeriousCases</th>\n",
       "                        <td id=\"T_37cd17ec_dd8a_11ea_ba1a_0ae0afef0a42row4_col0\" class=\"data row4 col0\" >0.863696</td>\n",
       "                        <td id=\"T_37cd17ec_dd8a_11ea_ba1a_0ae0afef0a42row4_col1\" class=\"data row4 col1\" >0.924670</td>\n",
       "                        <td id=\"T_37cd17ec_dd8a_11ea_ba1a_0ae0afef0a42row4_col2\" class=\"data row4 col2\" >0.640219</td>\n",
       "                        <td id=\"T_37cd17ec_dd8a_11ea_ba1a_0ae0afef0a42row4_col3\" class=\"data row4 col3\" >0.728273</td>\n",
       "                        <td id=\"T_37cd17ec_dd8a_11ea_ba1a_0ae0afef0a42row4_col4\" class=\"data row4 col4\" >1.000000</td>\n",
       "                        <td id=\"T_37cd17ec_dd8a_11ea_ba1a_0ae0afef0a42row4_col5\" class=\"data row4 col5\" >0.097448</td>\n",
       "                        <td id=\"T_37cd17ec_dd8a_11ea_ba1a_0ae0afef0a42row4_col6\" class=\"data row4 col6\" >0.421844</td>\n",
       "                        <td id=\"T_37cd17ec_dd8a_11ea_ba1a_0ae0afef0a42row4_col7\" class=\"data row4 col7\" >0.160701</td>\n",
       "            </tr>\n",
       "            <tr>\n",
       "                        <th id=\"T_37cd17ec_dd8a_11ea_ba1a_0ae0afef0a42level0_row5\" class=\"row_heading level0 row5\" >CasesPerMil</th>\n",
       "                        <td id=\"T_37cd17ec_dd8a_11ea_ba1a_0ae0afef0a42row5_col0\" class=\"data row5 col0\" >0.068885</td>\n",
       "                        <td id=\"T_37cd17ec_dd8a_11ea_ba1a_0ae0afef0a42row5_col1\" class=\"data row5 col1\" >0.094088</td>\n",
       "                        <td id=\"T_37cd17ec_dd8a_11ea_ba1a_0ae0afef0a42row5_col2\" class=\"data row5 col2\" >0.001253</td>\n",
       "                        <td id=\"T_37cd17ec_dd8a_11ea_ba1a_0ae0afef0a42row5_col3\" class=\"data row5 col3\" >0.132931</td>\n",
       "                        <td id=\"T_37cd17ec_dd8a_11ea_ba1a_0ae0afef0a42row5_col4\" class=\"data row5 col4\" >0.097448</td>\n",
       "                        <td id=\"T_37cd17ec_dd8a_11ea_ba1a_0ae0afef0a42row5_col5\" class=\"data row5 col5\" >1.000000</td>\n",
       "                        <td id=\"T_37cd17ec_dd8a_11ea_ba1a_0ae0afef0a42row5_col6\" class=\"data row5 col6\" >-0.049601</td>\n",
       "                        <td id=\"T_37cd17ec_dd8a_11ea_ba1a_0ae0afef0a42row5_col7\" class=\"data row5 col7\" >-0.208313</td>\n",
       "            </tr>\n",
       "            <tr>\n",
       "                        <th id=\"T_37cd17ec_dd8a_11ea_ba1a_0ae0afef0a42level0_row6\" class=\"row_heading level0 row6\" >Population</th>\n",
       "                        <td id=\"T_37cd17ec_dd8a_11ea_ba1a_0ae0afef0a42row6_col0\" class=\"data row6 col0\" >0.603465</td>\n",
       "                        <td id=\"T_37cd17ec_dd8a_11ea_ba1a_0ae0afef0a42row6_col1\" class=\"data row6 col1\" >0.466523</td>\n",
       "                        <td id=\"T_37cd17ec_dd8a_11ea_ba1a_0ae0afef0a42row6_col2\" class=\"data row6 col2\" >0.682870</td>\n",
       "                        <td id=\"T_37cd17ec_dd8a_11ea_ba1a_0ae0afef0a42row6_col3\" class=\"data row6 col3\" >0.163894</td>\n",
       "                        <td id=\"T_37cd17ec_dd8a_11ea_ba1a_0ae0afef0a42row6_col4\" class=\"data row6 col4\" >0.421844</td>\n",
       "                        <td id=\"T_37cd17ec_dd8a_11ea_ba1a_0ae0afef0a42row6_col5\" class=\"data row6 col5\" >-0.049601</td>\n",
       "                        <td id=\"T_37cd17ec_dd8a_11ea_ba1a_0ae0afef0a42row6_col6\" class=\"data row6 col6\" >1.000000</td>\n",
       "                        <td id=\"T_37cd17ec_dd8a_11ea_ba1a_0ae0afef0a42row6_col7\" class=\"data row6 col7\" >0.066495</td>\n",
       "            </tr>\n",
       "            <tr>\n",
       "                        <th id=\"T_37cd17ec_dd8a_11ea_ba1a_0ae0afef0a42level0_row7\" class=\"row_heading level0 row7\" >MedianAge</th>\n",
       "                        <td id=\"T_37cd17ec_dd8a_11ea_ba1a_0ae0afef0a42row7_col0\" class=\"data row7 col0\" >0.167933</td>\n",
       "                        <td id=\"T_37cd17ec_dd8a_11ea_ba1a_0ae0afef0a42row7_col1\" class=\"data row7 col1\" >0.142094</td>\n",
       "                        <td id=\"T_37cd17ec_dd8a_11ea_ba1a_0ae0afef0a42row7_col2\" class=\"data row7 col2\" >0.065764</td>\n",
       "                        <td id=\"T_37cd17ec_dd8a_11ea_ba1a_0ae0afef0a42row7_col3\" class=\"data row7 col3\" >0.236506</td>\n",
       "                        <td id=\"T_37cd17ec_dd8a_11ea_ba1a_0ae0afef0a42row7_col4\" class=\"data row7 col4\" >0.160701</td>\n",
       "                        <td id=\"T_37cd17ec_dd8a_11ea_ba1a_0ae0afef0a42row7_col5\" class=\"data row7 col5\" >-0.208313</td>\n",
       "                        <td id=\"T_37cd17ec_dd8a_11ea_ba1a_0ae0afef0a42row7_col6\" class=\"data row7 col6\" >0.066495</td>\n",
       "                        <td id=\"T_37cd17ec_dd8a_11ea_ba1a_0ae0afef0a42row7_col7\" class=\"data row7 col7\" >1.000000</td>\n",
       "            </tr>\n",
       "    </tbody></table>"
      ],
      "text/plain": [
       "<pandas.io.formats.style.Styler at 0x2135301fd88>"
      ]
     },
     "execution_count": 388,
     "metadata": {},
     "output_type": "execute_result"
    }
   ],
   "source": [
    "corr = data.corr()          #finding correlation between features/variables\n",
    "corr.style.background_gradient(cmap='coolwarm')"
   ]
  },
  {
   "cell_type": "code",
   "execution_count": 389,
   "metadata": {},
   "outputs": [],
   "source": [
    "df = pd.DataFrame(data, columns=['CasesPerMil', 'TotalDeaths'])"
   ]
  },
  {
   "cell_type": "code",
   "execution_count": 390,
   "metadata": {},
   "outputs": [
    {
     "data": {
      "text/html": [
       "<div>\n",
       "<style scoped>\n",
       "    .dataframe tbody tr th:only-of-type {\n",
       "        vertical-align: middle;\n",
       "    }\n",
       "\n",
       "    .dataframe tbody tr th {\n",
       "        vertical-align: top;\n",
       "    }\n",
       "\n",
       "    .dataframe thead th {\n",
       "        text-align: right;\n",
       "    }\n",
       "</style>\n",
       "<table border=\"1\" class=\"dataframe\">\n",
       "  <thead>\n",
       "    <tr style=\"text-align: right;\">\n",
       "      <th></th>\n",
       "      <th>CasesPerMil</th>\n",
       "      <th>TotalDeaths</th>\n",
       "    </tr>\n",
       "  </thead>\n",
       "  <tbody>\n",
       "    <tr>\n",
       "      <th>1</th>\n",
       "      <td>679.0</td>\n",
       "      <td>3405</td>\n",
       "    </tr>\n",
       "    <tr>\n",
       "      <th>0</th>\n",
       "      <td>56.0</td>\n",
       "      <td>3248</td>\n",
       "    </tr>\n",
       "    <tr>\n",
       "      <th>3</th>\n",
       "      <td>234.0</td>\n",
       "      <td>1433</td>\n",
       "    </tr>\n",
       "    <tr>\n",
       "      <th>2</th>\n",
       "      <td>427.0</td>\n",
       "      <td>1002</td>\n",
       "    </tr>\n",
       "    <tr>\n",
       "      <th>6</th>\n",
       "      <td>168.0</td>\n",
       "      <td>372</td>\n",
       "    </tr>\n",
       "    <tr>\n",
       "      <th>5</th>\n",
       "      <td>43.0</td>\n",
       "      <td>217</td>\n",
       "    </tr>\n",
       "    <tr>\n",
       "      <th>9</th>\n",
       "      <td>48.0</td>\n",
       "      <td>144</td>\n",
       "    </tr>\n",
       "    <tr>\n",
       "      <th>7</th>\n",
       "      <td>169.0</td>\n",
       "      <td>94</td>\n",
       "    </tr>\n",
       "    <tr>\n",
       "      <th>10</th>\n",
       "      <td>144.0</td>\n",
       "      <td>76</td>\n",
       "    </tr>\n",
       "    <tr>\n",
       "      <th>4</th>\n",
       "      <td>198.0</td>\n",
       "      <td>44</td>\n",
       "    </tr>\n",
       "  </tbody>\n",
       "</table>\n",
       "</div>"
      ],
      "text/plain": [
       "    CasesPerMil  TotalDeaths\n",
       "1         679.0         3405\n",
       "0          56.0         3248\n",
       "3         234.0         1433\n",
       "2         427.0         1002\n",
       "6         168.0          372\n",
       "5          43.0          217\n",
       "9          48.0          144\n",
       "7         169.0           94\n",
       "10        144.0           76\n",
       "4         198.0           44"
      ]
     },
     "execution_count": 390,
     "metadata": {},
     "output_type": "execute_result"
    }
   ],
   "source": [
    "df.nlargest(n=10, columns='TotalDeaths')"
   ]
  },
  {
   "cell_type": "code",
   "execution_count": 391,
   "metadata": {},
   "outputs": [
    {
     "name": "stdout",
     "output_type": "stream",
     "text": [
      "Total cases per million: 19175.99\n",
      "Total Deaths: 10405\n"
     ]
    }
   ],
   "source": [
    "print('Total cases per million:',df['CasesPerMil'].sum())\n",
    "print('Total Deaths:',df['TotalDeaths'].sum())"
   ]
  },
  {
   "cell_type": "code",
   "execution_count": 392,
   "metadata": {},
   "outputs": [
    {
     "data": {
      "text/plain": [
       "<matplotlib.axes._subplots.AxesSubplot at 0x2135337fc48>"
      ]
     },
     "execution_count": 392,
     "metadata": {},
     "output_type": "execute_result"
    },
    {
     "data": {
      "image/png": "[encoded data removed]",
      "text/plain": [
       "<Figure size 432x288 with 1 Axes>"
      ]
     },
     "metadata": {
      "needs_background": "light"
     },
     "output_type": "display_data"
    }
   ],
   "source": [
    "#the data is not in a linear pattern\n",
    "sns.scatterplot(df['CasesPerMil'], df['TotalDeaths'])"
   ]
  },
  {
   "cell_type": "code",
   "execution_count": 393,
   "metadata": {},
   "outputs": [
    {
     "data": {
      "text/plain": [
       "<matplotlib.axes._subplots.AxesSubplot at 0x21352b3a948>"
      ]
     },
     "execution_count": 393,
     "metadata": {},
     "output_type": "execute_result"
    },
    {
     "data": {
      "image/png": "[encoded data removed]",
      "text/plain": [
       "<Figure size 432x288 with 1 Axes>"
      ]
     },
     "metadata": {
      "needs_background": "light"
     },
     "output_type": "display_data"
    }
   ],
   "source": [
    "#not a normalized form\n",
    "sns.distplot(df['TotalDeaths'])"
   ]
  },
  {
   "cell_type": "code",
   "execution_count": 394,
   "metadata": {},
   "outputs": [
    {
     "data": {
      "text/plain": [
       "<matplotlib.axes._subplots.AxesSubplot at 0x21351d09688>"
      ]
     },
     "execution_count": 394,
     "metadata": {},
     "output_type": "execute_result"
    },
    {
     "data": {
      "image/png": "[encoded data removed]",
      "text/plain": [
       "<Figure size 432x288 with 1 Axes>"
      ]
     },
     "metadata": {
      "needs_background": "light"
     },
     "output_type": "display_data"
    }
   ],
   "source": [
    "#same case here\n",
    "sns.distplot(df['CasesPerMil'])"
   ]
  },
  {
   "cell_type": "code",
   "execution_count": 395,
   "metadata": {},
   "outputs": [
    {
     "data": {
      "text/plain": [
       "<seaborn.axisgrid.PairGrid at 0x21351e5f2c8>"
      ]
     },
     "execution_count": 395,
     "metadata": {},
     "output_type": "execute_result"
    },
    {
     "data": {
      "image/png": "[encoded data removed]",
      "text/plain": [
       "<Figure size 360x360 with 6 Axes>"
      ]
     },
     "metadata": {
      "needs_background": "light"
     },
     "output_type": "display_data"
    }
   ],
   "source": [
    "sns.pairplot(df)"
   ]
  },
  {
   "cell_type": "code",
   "execution_count": 396,
   "metadata": {},
   "outputs": [],
   "source": [
    "#Since the distplot for totaldeaths and casespermil is not normalized, I used normalization\n",
    "from sklearn import preprocessing          \n",
    "x_array=np.array(df[['CasesPerMil','TotalDeaths']])\n",
    "normalized_X=preprocessing.normalize(x_array)"
   ]
  },
  {
   "cell_type": "code",
   "execution_count": 397,
   "metadata": {},
   "outputs": [
    {
     "data": {
      "text/plain": [
       "array([[0.01723882, 0.9998514 ],\n",
       "       [0.19556223, 0.98069129],\n",
       "       [0.39203475, 0.91995041],\n",
       "       [0.16115928, 0.98692841],\n",
       "       [0.97618706, 0.21693046],\n",
       "       [0.19437721, 0.98092686],\n",
       "       [0.41158672, 0.9113706 ],\n",
       "       [0.87391325, 0.48608192],\n",
       "       [0.99712658, 0.07575343],\n",
       "       [0.31622777, 0.9486833 ],\n",
       "       [0.88438475, 0.46675862],\n",
       "       [0.98247062, 0.1864175 ],\n",
       "       [0.99970026, 0.02448246],\n",
       "       [0.9997778 , 0.02107965],\n",
       "       [0.99709508, 0.07616698],\n",
       "       [0.99910009, 0.04241463],\n",
       "       [0.99805258, 0.06237829],\n",
       "       [0.23560003, 0.97185011],\n",
       "       [0.97945704, 0.20165292],\n",
       "       [0.88658485, 0.46256601],\n",
       "       [0.99789836, 0.06479859],\n",
       "       [1.        , 0.        ],\n",
       "       [0.        , 1.        ],\n",
       "       [1.        , 0.        ],\n",
       "       [0.3939193 , 0.91914503],\n",
       "       [0.99964777, 0.02653932],\n",
       "       [0.99998661, 0.00517457],\n",
       "       [0.9912279 , 0.13216372],\n",
       "       [1.        , 0.        ],\n",
       "       [0.5547002 , 0.83205029],\n",
       "       [1.        , 0.        ],\n",
       "       [1.        , 0.        ],\n",
       "       [1.        , 0.        ],\n",
       "       [0.85749293, 0.51449576],\n",
       "       [0.03123475, 0.99951208],\n",
       "       [0.70710678, 0.70710678],\n",
       "       [1.        , 0.        ],\n",
       "       [0.98058068, 0.19611614],\n",
       "       [0.99997864, 0.00653581],\n",
       "       [1.        , 0.        ],\n",
       "       [0.99998207, 0.00598792],\n",
       "       [1.        , 0.        ],\n",
       "       [1.        , 0.        ],\n",
       "       [0.96623494, 0.25766265],\n",
       "       [0.3939193 , 0.91914503],\n",
       "       [0.9931506 , 0.11684125],\n",
       "       [0.91914503, 0.3939193 ],\n",
       "       [0.11043153, 0.99388373],\n",
       "       [0.019996  , 0.99980006],\n",
       "       [1.        , 0.        ],\n",
       "       [0.70710678, 0.70710678],\n",
       "       [0.35897908, 0.93334561],\n",
       "       [0.70710678, 0.70710678],\n",
       "       [0.98639392, 0.16439899],\n",
       "       [1.        , 0.        ],\n",
       "       [0.99999456, 0.00329876],\n",
       "       [1.        , 0.        ],\n",
       "       [0.99951208, 0.03123475],\n",
       "       [1.        , 0.        ],\n",
       "       [0.9486833 , 0.31622777],\n",
       "       [0.70710678, 0.70710678],\n",
       "       [1.        , 0.        ],\n",
       "       [1.        , 0.        ],\n",
       "       [1.        , 0.        ],\n",
       "       [0.99936285, 0.03569153],\n",
       "       [0.98287219, 0.18428854],\n",
       "       [1.        , 0.        ],\n",
       "       [1.        , 0.        ],\n",
       "       [0.19611614, 0.98058068],\n",
       "       [0.9931506 , 0.11684125],\n",
       "       [1.        , 0.        ],\n",
       "       [0.9486833 , 0.31622777],\n",
       "       [1.        , 0.        ],\n",
       "       [1.        , 0.        ],\n",
       "       [1.        , 0.        ],\n",
       "       [1.        , 0.        ],\n",
       "       [1.        , 0.        ],\n",
       "       [1.        , 0.        ],\n",
       "       [1.        , 0.        ],\n",
       "       [1.        , 0.        ],\n",
       "       [0.5547002 , 0.83205029],\n",
       "       [1.        , 0.        ],\n",
       "       [0.99589321, 0.09053575],\n",
       "       [1.        , 0.        ],\n",
       "       [0.98058068, 0.19611614],\n",
       "       [0.99654576, 0.08304548],\n",
       "       [1.        , 0.        ],\n",
       "       [1.        , 0.        ],\n",
       "       [1.        , 0.        ],\n",
       "       [1.        , 0.        ],\n",
       "       [1.        , 0.        ],\n",
       "       [1.        , 0.        ],\n",
       "       [0.9701425 , 0.24253563],\n",
       "       [1.        , 0.        ],\n",
       "       [1.        , 0.        ],\n",
       "       [0.89442719, 0.4472136 ],\n",
       "       [1.        , 0.        ],\n",
       "       [1.        , 0.        ],\n",
       "       [0.83205029, 0.5547002 ],\n",
       "       [1.        , 0.        ],\n",
       "       [0.9999308 , 0.01176389],\n",
       "       [1.        , 0.        ],\n",
       "       [1.        , 0.        ],\n",
       "       [0.19611614, 0.98058068],\n",
       "       [1.        , 0.        ],\n",
       "       [1.        , 0.        ],\n",
       "       [0.09950372, 0.99503719],\n",
       "       [1.        , 0.        ],\n",
       "       [1.        , 0.        ],\n",
       "       [1.        , 0.        ],\n",
       "       [1.        , 0.        ],\n",
       "       [0.70710678, 0.70710678],\n",
       "       [0.98058068, 0.19611614],\n",
       "       [1.        , 0.        ],\n",
       "       [1.        , 0.        ],\n",
       "       [1.        , 0.        ],\n",
       "       [1.        , 0.        ],\n",
       "       [1.        , 0.        ],\n",
       "       [1.        , 0.        ],\n",
       "       [1.        , 0.        ],\n",
       "       [1.        , 0.        ],\n",
       "       [1.        , 0.        ],\n",
       "       [1.        , 0.        ],\n",
       "       [1.        , 0.        ],\n",
       "       [1.        , 0.        ],\n",
       "       [0.4472136 , 0.89442719],\n",
       "       [1.        , 0.        ],\n",
       "       [1.        , 0.        ],\n",
       "       [1.        , 0.        ],\n",
       "       [1.        , 0.        ],\n",
       "       [1.        , 0.        ],\n",
       "       [1.        , 0.        ],\n",
       "       [1.        , 0.        ],\n",
       "       [1.        , 0.        ],\n",
       "       [1.        , 0.        ],\n",
       "       [1.        , 0.        ],\n",
       "       [1.        , 0.        ],\n",
       "       [1.        , 0.        ],\n",
       "       [0.98639392, 0.16439899],\n",
       "       [1.        , 0.        ],\n",
       "       [1.        , 0.        ],\n",
       "       [1.        , 0.        ],\n",
       "       [1.        , 0.        ],\n",
       "       [0.99976379, 0.021734  ],\n",
       "       [0.99846035, 0.05547002],\n",
       "       [0.70710678, 0.70710678],\n",
       "       [1.        , 0.        ],\n",
       "       [1.        , 0.        ],\n",
       "       [1.        , 0.        ],\n",
       "       [1.        , 0.        ],\n",
       "       [1.        , 0.        ],\n",
       "       [1.        , 0.        ],\n",
       "       [0.04993762, 0.99875234],\n",
       "       [1.        , 0.        ],\n",
       "       [1.        , 0.        ],\n",
       "       [1.        , 0.        ],\n",
       "       [1.        , 0.        ],\n",
       "       [1.        , 0.        ],\n",
       "       [1.        , 0.        ],\n",
       "       [1.        , 0.        ],\n",
       "       [1.        , 0.        ],\n",
       "       [1.        , 0.        ],\n",
       "       [1.        , 0.        ],\n",
       "       [1.        , 0.        ],\n",
       "       [1.        , 0.        ],\n",
       "       [1.        , 0.        ],\n",
       "       [1.        , 0.        ],\n",
       "       [1.        , 0.        ],\n",
       "       [1.        , 0.        ],\n",
       "       [1.        , 0.        ],\n",
       "       [1.        , 0.        ],\n",
       "       [1.        , 0.        ],\n",
       "       [1.        , 0.        ],\n",
       "       [1.        , 0.        ],\n",
       "       [1.        , 0.        ],\n",
       "       [1.        , 0.        ],\n",
       "       [1.        , 0.        ],\n",
       "       [1.        , 0.        ],\n",
       "       [1.        , 0.        ],\n",
       "       [1.        , 0.        ],\n",
       "       [1.        , 0.        ],\n",
       "       [1.        , 0.        ]])"
      ]
     },
     "execution_count": 397,
     "metadata": {},
     "output_type": "execute_result"
    }
   ],
   "source": [
    "normalized_X[:]"
   ]
  },
  {
   "cell_type": "code",
   "execution_count": 398,
   "metadata": {},
   "outputs": [],
   "source": [
    "df1 = pd.DataFrame({'CasesPerMil': normalized_X[:,0], 'TotalDeaths': normalized_X[:,1]})"
   ]
  },
  {
   "cell_type": "code",
   "execution_count": 399,
   "metadata": {},
   "outputs": [
    {
     "data": {
      "text/html": [
       "<div>\n",
       "<style scoped>\n",
       "    .dataframe tbody tr th:only-of-type {\n",
       "        vertical-align: middle;\n",
       "    }\n",
       "\n",
       "    .dataframe tbody tr th {\n",
       "        vertical-align: top;\n",
       "    }\n",
       "\n",
       "    .dataframe thead th {\n",
       "        text-align: right;\n",
       "    }\n",
       "</style>\n",
       "<table border=\"1\" class=\"dataframe\">\n",
       "  <thead>\n",
       "    <tr style=\"text-align: right;\">\n",
       "      <th></th>\n",
       "      <th>CasesPerMil</th>\n",
       "      <th>TotalDeaths</th>\n",
       "    </tr>\n",
       "  </thead>\n",
       "  <tbody>\n",
       "    <tr>\n",
       "      <th>0</th>\n",
       "      <td>0.017239</td>\n",
       "      <td>0.999851</td>\n",
       "    </tr>\n",
       "    <tr>\n",
       "      <th>1</th>\n",
       "      <td>0.195562</td>\n",
       "      <td>0.980691</td>\n",
       "    </tr>\n",
       "    <tr>\n",
       "      <th>2</th>\n",
       "      <td>0.392035</td>\n",
       "      <td>0.919950</td>\n",
       "    </tr>\n",
       "    <tr>\n",
       "      <th>3</th>\n",
       "      <td>0.161159</td>\n",
       "      <td>0.986928</td>\n",
       "    </tr>\n",
       "    <tr>\n",
       "      <th>4</th>\n",
       "      <td>0.976187</td>\n",
       "      <td>0.216930</td>\n",
       "    </tr>\n",
       "    <tr>\n",
       "      <th>...</th>\n",
       "      <td>...</td>\n",
       "      <td>...</td>\n",
       "    </tr>\n",
       "    <tr>\n",
       "      <th>177</th>\n",
       "      <td>1.000000</td>\n",
       "      <td>0.000000</td>\n",
       "    </tr>\n",
       "    <tr>\n",
       "      <th>178</th>\n",
       "      <td>1.000000</td>\n",
       "      <td>0.000000</td>\n",
       "    </tr>\n",
       "    <tr>\n",
       "      <th>179</th>\n",
       "      <td>1.000000</td>\n",
       "      <td>0.000000</td>\n",
       "    </tr>\n",
       "    <tr>\n",
       "      <th>180</th>\n",
       "      <td>1.000000</td>\n",
       "      <td>0.000000</td>\n",
       "    </tr>\n",
       "    <tr>\n",
       "      <th>181</th>\n",
       "      <td>1.000000</td>\n",
       "      <td>0.000000</td>\n",
       "    </tr>\n",
       "  </tbody>\n",
       "</table>\n",
       "<p>182 rows × 2 columns</p>\n",
       "</div>"
      ],
      "text/plain": [
       "     CasesPerMil  TotalDeaths\n",
       "0       0.017239     0.999851\n",
       "1       0.195562     0.980691\n",
       "2       0.392035     0.919950\n",
       "3       0.161159     0.986928\n",
       "4       0.976187     0.216930\n",
       "..           ...          ...\n",
       "177     1.000000     0.000000\n",
       "178     1.000000     0.000000\n",
       "179     1.000000     0.000000\n",
       "180     1.000000     0.000000\n",
       "181     1.000000     0.000000\n",
       "\n",
       "[182 rows x 2 columns]"
      ]
     },
     "execution_count": 399,
     "metadata": {},
     "output_type": "execute_result"
    }
   ],
   "source": [
    "df1"
   ]
  },
  {
   "cell_type": "code",
   "execution_count": 400,
   "metadata": {},
   "outputs": [
    {
     "data": {
      "text/plain": [
       "count    182.000000\n",
       "mean       0.892010\n",
       "std        0.255205\n",
       "min        0.000000\n",
       "25%        0.983753\n",
       "50%        1.000000\n",
       "75%        1.000000\n",
       "max        1.000000\n",
       "Name: CasesPerMil, dtype: float64"
      ]
     },
     "execution_count": 400,
     "metadata": {},
     "output_type": "execute_result"
    }
   ],
   "source": [
    "df1['CasesPerMil'].describe()"
   ]
  },
  {
   "cell_type": "code",
   "execution_count": 401,
   "metadata": {},
   "outputs": [
    {
     "data": {
      "text/plain": [
       "<matplotlib.axes._subplots.AxesSubplot at 0x213536e1948>"
      ]
     },
     "execution_count": 401,
     "metadata": {},
     "output_type": "execute_result"
    },
    {
     "data": {
      "image/png": "[encoded data removed]",
      "text/plain": [
       "<Figure size 432x288 with 1 Axes>"
      ]
     },
     "metadata": {
      "needs_background": "light"
     },
     "output_type": "display_data"
    }
   ],
   "source": [
    "#checking for normalized output\n",
    "sns.distplot(df1['CasesPerMil'])"
   ]
  },
  {
   "cell_type": "code",
   "execution_count": 402,
   "metadata": {},
   "outputs": [
    {
     "data": {
      "text/plain": [
       "<matplotlib.axes._subplots.AxesSubplot at 0x2135372e5c8>"
      ]
     },
     "execution_count": 402,
     "metadata": {},
     "output_type": "execute_result"
    },
    {
     "data": {
      "image/png": "[encoded data removed]",
      "text/plain": [
       "<Figure size 432x288 with 1 Axes>"
      ]
     },
     "metadata": {
      "needs_background": "light"
     },
     "output_type": "display_data"
    }
   ],
   "source": [
    "#checking for normalized output\n",
    "sns.distplot(df1['TotalDeaths'])"
   ]
  },
  {
   "cell_type": "code",
   "execution_count": 403,
   "metadata": {},
   "outputs": [],
   "source": [
    "X = df1[['CasesPerMil']]\n",
    "y = df1['TotalDeaths']"
   ]
  },
  {
   "cell_type": "code",
   "execution_count": 404,
   "metadata": {},
   "outputs": [],
   "source": [
    "from sklearn.model_selection import train_test_split\n",
    "\n",
    "X_train, X_test, y_train, y_test = train_test_split(X, y, test_size=0.3, random_state=101)"
   ]
  },
  {
   "cell_type": "code",
   "execution_count": 405,
   "metadata": {},
   "outputs": [
    {
     "data": {
      "text/plain": [
       "LinearRegression(copy_X=True, fit_intercept=True, n_jobs=None, normalize=False)"
      ]
     },
     "execution_count": 405,
     "metadata": {},
     "output_type": "execute_result"
    }
   ],
   "source": [
    "from sklearn.linear_model import LinearRegression\n",
    "\n",
    "lm = LinearRegression()\n",
    "\n",
    "lm.fit(X_train, y_train)"
   ]
  },
  {
   "cell_type": "code",
   "execution_count": 406,
   "metadata": {},
   "outputs": [
    {
     "name": "stdout",
     "output_type": "stream",
     "text": [
      "1.2927467733773947\n"
     ]
    }
   ],
   "source": [
    "print(lm.intercept_)"
   ]
  },
  {
   "cell_type": "code",
   "execution_count": 407,
   "metadata": {},
   "outputs": [
    {
     "data": {
      "text/plain": [
       "array([-1.24514003])"
      ]
     },
     "execution_count": 407,
     "metadata": {},
     "output_type": "execute_result"
    }
   ],
   "source": [
    "lm.coef_"
   ]
  },
  {
   "cell_type": "code",
   "execution_count": 408,
   "metadata": {},
   "outputs": [],
   "source": [
    "predictions = lm.predict(X_test)"
   ]
  },
  {
   "cell_type": "code",
   "execution_count": 409,
   "metadata": {},
   "outputs": [
    {
     "name": "stdout",
     "output_type": "stream",
     "text": [
      "[0.04760674 0.05190776 0.08964897 0.04760674 0.04760674 0.04760674\n",
      " 0.04840008 0.04760674 0.07178652 1.29274677 0.04760674 0.04760674\n",
      " 0.04760674 0.73590322 0.04760674 0.04760674 0.04797996 0.04760674\n",
      " 0.04804532 1.25385513 1.26784895 0.06454821 0.04760674 0.0476929\n",
      " 0.04760674 0.04760674 0.04760674 0.05003155 0.04760674 0.04760674\n",
      " 0.04760674 0.04760674 0.04760674 0.41229981 0.04760674 0.04760674\n",
      " 0.07725719 0.04872725 1.04924441 0.06893327 0.04760674 0.04760674\n",
      " 0.04760674 0.04761352 0.225048   0.04760674 0.04760674 0.04760674\n",
      " 0.04760674 0.04760674 0.41229981 0.60206735 0.04760674 0.04760674\n",
      " 0.04760674]\n"
     ]
    }
   ],
   "source": [
    "print(predictions)"
   ]
  },
  {
   "cell_type": "code",
   "execution_count": 410,
   "metadata": {},
   "outputs": [
    {
     "data": {
      "text/plain": [
       "<matplotlib.collections.PathCollection at 0x21353913bc8>"
      ]
     },
     "execution_count": 410,
     "metadata": {},
     "output_type": "execute_result"
    },
    {
     "data": {
      "image/png": "[encoded data removed]",
      "text/plain": [
       "<Figure size 432x288 with 1 Axes>"
      ]
     },
     "metadata": {
      "needs_background": "light"
     },
     "output_type": "display_data"
    }
   ],
   "source": [
    "#Is this curve proper for linear regression ???\n",
    "plt.scatter(y_test, predictions)"
   ]
  },
  {
   "cell_type": "code",
   "execution_count": 411,
   "metadata": {},
   "outputs": [
    {
     "data": {
      "image/png": "[encoded data removed]",
      "text/plain": [
       "<Figure size 432x288 with 1 Axes>"
      ]
     },
     "metadata": {
      "needs_background": "light"
     },
     "output_type": "display_data"
    }
   ],
   "source": [
    "plt.scatter(y_test, predictions)\n",
    "yhat = X_test.dot(lm.coef_)+lm.intercept_\n",
    "fig = plt.plot(predictions,yhat,c='red',label='regression line')\n",
    "plt.xlabel('Cases Per Million')\n",
    "plt.ylabel('Total Deaths')\n",
    "plt.show()"
   ]
  },
  {
   "cell_type": "code",
   "execution_count": 412,
   "metadata": {},
   "outputs": [],
   "source": [
    "from sklearn import metrics\n",
    "from sklearn.metrics import r2_score"
   ]
  },
  {
   "cell_type": "code",
   "execution_count": 413,
   "metadata": {},
   "outputs": [
    {
     "name": "stdout",
     "output_type": "stream",
     "text": [
      "MAE : 0.08285924332252206\n",
      "MSE : 0.013262202505125482\n",
      "RMSE : 0.11516163642952232\n"
     ]
    }
   ],
   "source": [
    "#low accuracy\n",
    "print('MAE :',metrics.mean_absolute_error(y_test, predictions))\n",
    "print('MSE :',metrics.mean_squared_error(y_test, predictions))\n",
    "print('RMSE :',np.sqrt(metrics.mean_squared_error(y_test, predictions)))"
   ]
  },
  {
   "cell_type": "code",
   "execution_count": 414,
   "metadata": {},
   "outputs": [
    {
     "name": "stdout",
     "output_type": "stream",
     "text": [
      "R2 score: 0.8671626387027396\n"
     ]
    }
   ],
   "source": [
    "print('R2 score:',r2_score(y_test,predictions))"
   ]
  },
  {
   "cell_type": "code",
   "execution_count": 415,
   "metadata": {},
   "outputs": [
    {
     "data": {
      "text/plain": [
       "0.8685218851053624"
      ]
     },
     "execution_count": 415,
     "metadata": {},
     "output_type": "execute_result"
    }
   ],
   "source": [
    "metrics.explained_variance_score(y_test, predictions)"
   ]
  },
  {
   "cell_type": "code",
   "execution_count": 416,
   "metadata": {},
   "outputs": [
    {
     "data": {
      "text/html": [
       "<div>\n",
       "<style scoped>\n",
       "    .dataframe tbody tr th:only-of-type {\n",
       "        vertical-align: middle;\n",
       "    }\n",
       "\n",
       "    .dataframe tbody tr th {\n",
       "        vertical-align: top;\n",
       "    }\n",
       "\n",
       "    .dataframe thead th {\n",
       "        text-align: right;\n",
       "    }\n",
       "</style>\n",
       "<table border=\"1\" class=\"dataframe\">\n",
       "  <thead>\n",
       "    <tr style=\"text-align: right;\">\n",
       "      <th></th>\n",
       "      <th>Coefficient</th>\n",
       "    </tr>\n",
       "  </thead>\n",
       "  <tbody>\n",
       "    <tr>\n",
       "      <th>CasesPerMil</th>\n",
       "      <td>-1.24514</td>\n",
       "    </tr>\n",
       "  </tbody>\n",
       "</table>\n",
       "</div>"
      ],
      "text/plain": [
       "             Coefficient\n",
       "CasesPerMil     -1.24514"
      ]
     },
     "execution_count": 416,
     "metadata": {},
     "output_type": "execute_result"
    }
   ],
   "source": [
    "cd = pd.DataFrame(lm.coef_, X.columns, columns=['Coefficient'])\n",
    "cd"
   ]
  },
  {
   "cell_type": "code",
   "execution_count": 417,
   "metadata": {},
   "outputs": [],
   "source": [
    "from sklearn.preprocessing import PolynomialFeatures"
   ]
  },
  {
   "cell_type": "code",
   "execution_count": 418,
   "metadata": {},
   "outputs": [
    {
     "data": {
      "text/plain": [
       "0.9686586169322072"
      ]
     },
     "execution_count": 418,
     "metadata": {},
     "output_type": "execute_result"
    }
   ],
   "source": [
    "poly = PolynomialFeatures(2)\n",
    "X_poly_train = poly.fit_transform(X_train)\n",
    "X_poly_test = poly.fit_transform(X_test)\n",
    "\n",
    "lm.fit(X_poly_train, y_train)\n",
    "y_pred_poly = lm.predict(X_poly_test)\n",
    "\n",
    "poly_r2 = r2_score(y_test, y_pred_poly)\n",
    "poly_r2"
   ]
  },
  {
   "cell_type": "code",
   "execution_count": 419,
   "metadata": {},
   "outputs": [
    {
     "data": {
      "image/png": "[encoded data removed]",
      "text/plain": [
       "<Figure size 432x288 with 1 Axes>"
      ]
     },
     "metadata": {
      "needs_background": "light"
     },
     "output_type": "display_data"
    }
   ],
   "source": [
    "plt.scatter(y_test, predictions, color='r')\n",
    "plt.scatter(y_test, y_pred_poly, color='b')\n",
    "plt.xlabel('Cases per million')\n",
    "plt.ylabel('Total Deaths')\n",
    "plt.show()"
   ]
  },
  {
   "cell_type": "code",
   "execution_count": 420,
   "metadata": {},
   "outputs": [
    {
     "name": "stdout",
     "output_type": "stream",
     "text": [
      "MAE : 0.041203445305944164\n",
      "MSE : 0.003129057706179766\n",
      "RMSE : 0.05593798089115986\n"
     ]
    }
   ],
   "source": [
    "print('MAE :',metrics.mean_absolute_error(y_test, y_pred_poly))\n",
    "print('MSE :',metrics.mean_squared_error(y_test, y_pred_poly))\n",
    "print('RMSE :',np.sqrt(metrics.mean_squared_error(y_test, y_pred_poly)))"
   ]
  },
  {
   "cell_type": "code",
   "execution_count": 421,
   "metadata": {},
   "outputs": [
    {
     "data": {
      "text/plain": [
       "0.9688729864669164"
      ]
     },
     "execution_count": 421,
     "metadata": {},
     "output_type": "execute_result"
    }
   ],
   "source": [
    "metrics.explained_variance_score(y_test, y_pred_poly)"
   ]
  },
  {
   "cell_type": "code",
   "execution_count": null,
   "metadata": {},
   "outputs": [],
   "source": []
  }
 ],
 "metadata": {
  "kernelspec": {
   "display_name": "Python 3",
   "language": "python",
   "name": "python3"
  },
  "language_info": {
   "codemirror_mode": {
    "name": "ipython",
    "version": 3
   },
   "file_extension": ".py",
   "mimetype": "text/x-python",
   "name": "python",
   "nbconvert_exporter": "python",
   "pygments_lexer": "ipython3",
   "version": "3.7.6"
  }
 },
 "nbformat": 4,
 "nbformat_minor": 4
}
